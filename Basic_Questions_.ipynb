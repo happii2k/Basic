{
  "nbformat": 4,
  "nbformat_minor": 0,
  "metadata": {
    "colab": {
      "provenance": []
    },
    "kernelspec": {
      "name": "python3",
      "display_name": "Python 3"
    },
    "language_info": {
      "name": "python"
    }
  },
  "cells": [
    {
      "cell_type": "markdown",
      "source": [
        "# **Theory Questions:**\n",
        "**1. What is the difference between a function and a method in Python?**\n",
        "* Function: A block of code that performs a specific task and is defined using the def keyword. It can be used independently.\n",
        "\n",
        "* Method: A function that is associated with an object. It is called using dot notation on an object.\n",
        "\n",
        "  Example:\n",
        "\n",
        "  ```\n",
        "  # Function\n",
        "  def greet(name):\n",
        "      return \"Hello \" + name\n",
        "\n",
        "  # Method\n",
        "  name = \"Alice\"\n",
        "  print(name.upper())  # upper() is a method of string object\n",
        "  ```\n",
        "\n",
        "\n",
        "**2. Explain the concept of function arguments and parameters in Python.**\n",
        "* Parameter: The variable listed inside the parentheses in the function definition\n",
        "\n",
        "* Argument: The actual value passed to the function when it is called.\n",
        "\n",
        "  Example:\n",
        "\n",
        "  ```\n",
        "  def greet(name):  # 'name' is a parameter\n",
        "      print(\"Hello\", name)\n",
        "\n",
        "  greet(\"Harsh\")  # \"Harsh\" is an argument\n",
        "  ```\n",
        "\n",
        "\n",
        "\n",
        "**3. What are the different ways to define and call a function in Python?**\n",
        "**Define a function using def or lambda.**\n",
        "\n",
        "* Call a function by its name followed by parentheses.\n",
        "\n",
        "  Example:\n",
        "\n",
        "  ```\n",
        "  # Using def\n",
        "  def add(a, b):\n",
        "      return a + b\n",
        "\n",
        "  print(add(2, 3))\n",
        "\n",
        "  # Using lambda\n",
        "  multiply = lambda x, y: x * y\n",
        "  print(multiply(4, 5))\n",
        "  ```\n",
        "\n",
        "**4. What is the purpose of the return statement in a Python function?**\n",
        "* The return statement ends the function execution and sends a result back to the caller.\n",
        "\n",
        "  Example:\n",
        "\n",
        "  ```\n",
        "  def square(x):\n",
        "      return x * x\n",
        "\n",
        "  result = square(4)\n",
        "  print(result)  # Output: 16\n",
        "    \n",
        "  ```\n",
        "**5. What are iterators in Python and how do they differ from iterables?**\n",
        "* Iterable: An object that can be looped over (e.g., list, tuple, string).\n",
        "\n",
        "* Iterator: An object with a __next__() method to get the next item.\n",
        "\n",
        " Example:\n",
        "  ```\n",
        "  # Iterable\n",
        "  nums = [1, 2, 3]\n",
        "\n",
        "  # Iterator\n",
        "  it = iter(nums)\n",
        "  print(next(it))  # Output: 1\n",
        "  ```\n",
        "\n",
        "**6. Explain the concept of generators in Python and how they are defined.**\n",
        "* Generators are functions that use yield instead of return.\n",
        "\n",
        "* They produce values one at a time and maintain their state between calls.\n",
        "\n",
        "  Example:\n",
        "\n",
        " ```\n",
        "def countdown(n):\n",
        "    while n > 0:\n",
        "        yield n\n",
        "        n -= 1\n",
        "for num in countdown(3):\n",
        "    print(num)\n",
        "\n",
        " ```\n",
        "\n",
        "**7. What are the advantages of using generators over regular functions?**\n",
        "* Memory Efficient: Don’t store the entire result in memory.\n",
        "\n",
        "* Lazy Evaluation: Produce items only when needed.\n",
        "\n",
        "* Stateful: Maintain their execution state between calls.\n",
        "\n",
        "  Example:\n",
        "```\n",
        "# Generator for infinite sequence\n",
        "def infinite_numbers():\n",
        "    num = 0\n",
        "    while True:\n",
        "        yield num\n",
        "        num += 1\n",
        "```\n",
        "\n",
        "**8. What is a lambda function in Python and when is it typically used?**\n",
        "* A lambda function is an anonymous function defined with the lambda keyword.\n",
        "\n",
        "* Used for short, simple functions, often passed as arguments.\n",
        "\n",
        "  Example:\n",
        "\n",
        "  ```\n",
        "  square = lambda x: x * x\n",
        "  print(square(5))  # Output: 25\n",
        "  ```\n",
        "\n",
        "**9. Explain the purpose and usage of the map() function in Python.**\n",
        "* map() applies a function to every item of an iterable and returns a map object (iterator).\n",
        "\n",
        "  Example:\n",
        "\n",
        "  ```\n",
        "  nums = [1, 2, 3, 4]\n",
        "  squares = list(map(lambda x: x ** 2, nums))\n",
        "  print(squares)  # Output: [1, 4, 9, 16]\n",
        "  ```\n",
        "\n",
        "**10. What is the difference between map(), reduce(), and filter() functions in Python?**\n",
        "* map(): Transforms each element using a function.\n",
        "\n",
        "* filter(): Selects elements based on a condition.\n",
        "\n",
        "* reduce(): Reduces all elements to a single value using a function (requires functools).\n",
        "\n",
        "  Example:\n",
        "\n",
        "  ```\n",
        "  from functools import reduce\n",
        "\n",
        "  nums = [1, 2, 3, 4]\n",
        "\n",
        "  # map\n",
        "  squares = list(map(lambda x: x ** 2, nums))\n",
        "\n",
        "  # filter\n",
        "  evens = list(filter(lambda x: x % 2 == 0, nums))\n",
        "\n",
        "  # reduce\n",
        "  sum_all = reduce(lambda x, y: x + y, nums)\n",
        "\n",
        "  print(squares)  # [1, 4, 9, 16]\n",
        "  print(evens)    # [2, 4]\n",
        "  print(sum_all)  # 10\n",
        "  ```\n",
        "\n",
        "\n",
        "** 11. Using pen & Paper write the internal mechanism for sum operation using** reduce function on this given list:[47,11,42,13]; **\n",
        "* <img src=\"ss.png\" width=\"300\"/>"
      ],
      "metadata": {
        "id": "KV4k7ZAtxuPw"
      }
    },
    {
      "cell_type": "code",
      "execution_count": 1,
      "metadata": {
        "colab": {
          "base_uri": "https://localhost:8080/"
        },
        "id": "V6IK-2jcwy2P",
        "outputId": "db1b5a24-38da-4747-d4ff-acab833b738e"
      },
      "outputs": [
        {
          "output_type": "stream",
          "name": "stdout",
          "text": [
            "12\n"
          ]
        }
      ],
      "source": [
        "#1. Write a Python function that takes a list of numbers as input and returns the sum of all even numbers in the list.\n",
        "def sum_of_even(numbers):\n",
        "    return sum(num for num in numbers if num % 2 == 0)\n",
        "\n",
        "print(sum_of_even([1, 2, 3, 4, 5, 6]))"
      ]
    },
    {
      "cell_type": "code",
      "source": [
        "#2. Create a Python function that accepts a string and returns the reverse of that string.\n",
        "\n",
        "def reverse_string(s):\n",
        "    return s[::-1]\n",
        "\n",
        "print(reverse_string(\"Python\"))"
      ],
      "metadata": {
        "colab": {
          "base_uri": "https://localhost:8080/"
        },
        "id": "T3r-OPab236H",
        "outputId": "4209374d-2b51-48eb-c85d-263d9acfdfbc"
      },
      "execution_count": 2,
      "outputs": [
        {
          "output_type": "stream",
          "name": "stdout",
          "text": [
            "nohtyP\n"
          ]
        }
      ]
    },
    {
      "cell_type": "code",
      "source": [
        "#3. Implement a Python function that takes a list of integers and returns a new list containing the squares of each number.\n",
        "def square_list(numbers):\n",
        "    return [num ** 2 for num in numbers]\n",
        "\n",
        "print(square_list([1, 2, 3, 4]))"
      ],
      "metadata": {
        "colab": {
          "base_uri": "https://localhost:8080/"
        },
        "id": "AKh9zGUZ-X-I",
        "outputId": "e4ec327d-b3e8-40fe-c090-54c2962cbd7b"
      },
      "execution_count": 3,
      "outputs": [
        {
          "output_type": "stream",
          "name": "stdout",
          "text": [
            "[1, 4, 9, 16]\n"
          ]
        }
      ]
    },
    {
      "cell_type": "code",
      "source": [
        "#4. Write a Python function that checks if a given number is prime or not from 1 to 200.\n",
        "\n",
        "def is_prime(n):\n",
        "    if n < 2:\n",
        "        return False\n",
        "    for i in range(2, int(n**0.5) + 1):\n",
        "        if n % i == 0:\n",
        "            return False\n",
        "    return True\n",
        "\n",
        "primes = [num for num in range(1, 201) if is_prime(num)]\n",
        "print(primes)"
      ],
      "metadata": {
        "colab": {
          "base_uri": "https://localhost:8080/"
        },
        "id": "LAvjY28r-ewP",
        "outputId": "c397e208-0807-438d-b6e2-8bfbf367e473"
      },
      "execution_count": 4,
      "outputs": [
        {
          "output_type": "stream",
          "name": "stdout",
          "text": [
            "[2, 3, 5, 7, 11, 13, 17, 19, 23, 29, 31, 37, 41, 43, 47, 53, 59, 61, 67, 71, 73, 79, 83, 89, 97, 101, 103, 107, 109, 113, 127, 131, 137, 139, 149, 151, 157, 163, 167, 173, 179, 181, 191, 193, 197, 199]\n"
          ]
        }
      ]
    },
    {
      "cell_type": "code",
      "source": [
        "#5. Create an iterator class in Python that generates the Fibonacci sequence up to a specified number of terms.\n",
        "class FibonacciIterator:\n",
        "    def __init__(self, max_terms):\n",
        "        self.max_terms = max_terms\n",
        "        self.a, self.b = 0, 1\n",
        "        self.count = 0\n",
        "\n",
        "    def __iter__(self):\n",
        "        return self\n",
        "\n",
        "    def __next__(self):\n",
        "        if self.count >= self.max_terms:\n",
        "            raise StopIteration\n",
        "        self.count += 1\n",
        "        self.a, self.b = self.b, self.a + self.b\n",
        "        return self.a\n",
        "\n",
        "\n",
        "for num in FibonacciIterator(10):\n",
        "    print(num, end=\" \")\n"
      ],
      "metadata": {
        "colab": {
          "base_uri": "https://localhost:8080/"
        },
        "id": "qt65wfKg_iGi",
        "outputId": "84d73f40-5ded-447a-f6a6-b0445200cede"
      },
      "execution_count": 5,
      "outputs": [
        {
          "output_type": "stream",
          "name": "stdout",
          "text": [
            "1 1 2 3 5 8 13 21 34 55 "
          ]
        }
      ]
    },
    {
      "cell_type": "code",
      "source": [
        "#6. Write a generator function in Python that yields the powers of 2 up to a given exponent.\n",
        "def powers_of_two(max_exponent):\n",
        "    for i in range(max_exponent + 1):\n",
        "        yield 2 ** i\n",
        "\n",
        "for power in powers_of_two(5):\n",
        "    print(power, end=\" \")"
      ],
      "metadata": {
        "colab": {
          "base_uri": "https://localhost:8080/"
        },
        "id": "3NEFUga0-pQN",
        "outputId": "00d68ec5-2cf1-45cd-d9cd-47d53b2b1f38"
      },
      "execution_count": 6,
      "outputs": [
        {
          "output_type": "stream",
          "name": "stdout",
          "text": [
            "1 2 4 8 16 32 "
          ]
        }
      ]
    },
    {
      "cell_type": "code",
      "source": [
        "#7. Implement a generator function that reads a file line by line and yields each line as a string.\n",
        "\n",
        "def read_file_line_by_line(file_path):\n",
        "    with open(file_path, 'r') as file:\n",
        "        for line in file:\n",
        "            yield line.strip()\n",
        "for line in read_file_line_by_line(\"example.txt\"):\n",
        "    print(line)"
      ],
      "metadata": {
        "colab": {
          "base_uri": "https://localhost:8080/"
        },
        "id": "uLYg7-AVADWS",
        "outputId": "13050c58-860c-4fd0-807e-ed393d5f7fa6"
      },
      "execution_count": 17,
      "outputs": [
        {
          "output_type": "stream",
          "name": "stdout",
          "text": [
            "This is line one.\n",
            "This is line two.\n",
            "This is line three.\n"
          ]
        }
      ]
    },
    {
      "cell_type": "code",
      "source": [
        "#8. Use a lambda function in Python to sort a list of tuples based on the second element of each tuple.\n",
        "data = [(1, 3), (2, 1), (4, 2)]\n",
        "sorted_data = sorted(data, key=lambda x: x[1])\n",
        "print(sorted_data)"
      ],
      "metadata": {
        "colab": {
          "base_uri": "https://localhost:8080/"
        },
        "id": "ycvvef14AGzC",
        "outputId": "8cb57210-0d6e-4b5f-883e-83062c6bb80f"
      },
      "execution_count": 8,
      "outputs": [
        {
          "output_type": "stream",
          "name": "stdout",
          "text": [
            "[(2, 1), (4, 2), (1, 3)]\n"
          ]
        }
      ]
    },
    {
      "cell_type": "code",
      "source": [
        "#9. Write a Python program that uses map() to convert a list of temperatures from Celsius to Fahrenheit.\n",
        "celsius = [0, 10, 20, 30]\n",
        "fahrenheit = list(map(lambda c: (c * 9/5) + 32, celsius))\n",
        "print(fahrenheit)"
      ],
      "metadata": {
        "colab": {
          "base_uri": "https://localhost:8080/"
        },
        "id": "ophLAcouAUEP",
        "outputId": "903eec7d-c48f-49f3-ea50-127674e3c4aa"
      },
      "execution_count": 11,
      "outputs": [
        {
          "output_type": "stream",
          "name": "stdout",
          "text": [
            "[32.0, 50.0, 68.0, 86.0]\n"
          ]
        }
      ]
    },
    {
      "cell_type": "code",
      "source": [
        "#10. Create a Python program that uses filter() to remove all the vowels from a given string.\n",
        "def remove_vowels(s):\n",
        "    return ''.join(filter(lambda ch: ch.lower() not in 'aeiou', s))\n",
        "\n",
        "print(remove_vowels(\"Hello World\"))"
      ],
      "metadata": {
        "colab": {
          "base_uri": "https://localhost:8080/"
        },
        "id": "6JHvtLfdAZeL",
        "outputId": "ce048006-e4e7-47c7-b26c-9016d246c03b"
      },
      "execution_count": 12,
      "outputs": [
        {
          "output_type": "stream",
          "name": "stdout",
          "text": [
            "Hll Wrld\n"
          ]
        }
      ]
    },
    {
      "cell_type": "code",
      "source": [
        "#11 . Imagine an accounting routine used in a book shop. It works on a list with sublists, which look like this:\n",
        "orders = [\n",
        "    [34587, \"Learning Python, Mark Lutz\", 4, 40.95],\n",
        "    [98762, \"Programming Python, Mark Lutz\", 5, 56.80],\n",
        "    [77226, \"Head First Python, Paul Barry\", 3, 32.95],\n",
        "    [88112, \"Einführung in Python3, Bernd Klein\", 3, 24.99]\n",
        "]\n",
        "\n",
        "\n",
        "order_totals = list(map(lambda x: (x[0], x[2] * x[3] + (10 if x[2] * x[3] < 100 else 0)), orders))\n",
        "\n",
        "print(order_totals)\n",
        "\n",
        "\n"
      ],
      "metadata": {
        "colab": {
          "base_uri": "https://localhost:8080/"
        },
        "id": "_PhXtSZnB3r4",
        "outputId": "2dc6fe40-623f-4832-ad72-a53be5261e69"
      },
      "execution_count": 18,
      "outputs": [
        {
          "output_type": "stream",
          "name": "stdout",
          "text": [
            "[(34587, 163.8), (98762, 284.0), (77226, 108.85000000000001), (88112, 84.97)]\n"
          ]
        }
      ]
    },
    {
      "cell_type": "markdown",
      "source": [],
      "metadata": {
        "id": "OxEQAVZsCWnd"
      }
    }
  ]
}